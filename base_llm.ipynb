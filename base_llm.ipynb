{
 "cells": [
  {
   "metadata": {
    "ExecuteTime": {
     "end_time": "2024-10-10T06:29:23.014756Z",
     "start_time": "2024-10-10T06:29:23.010881Z"
    }
   },
   "cell_type": "code",
   "source": [
    "# const\n",
    "BASE_MODEL = 'Qwen/Qwen2.5-0.5B-Instruct'\n",
    "MAX_LEN = 50"
   ],
   "id": "83e4c5e51d7a9f42",
   "outputs": [],
   "execution_count": 4
  },
  {
   "cell_type": "code",
   "id": "initial_id",
   "metadata": {
    "collapsed": true,
    "jupyter": {
     "is_executing": true
    },
    "ExecuteTime": {
     "start_time": "2024-10-10T06:29:23.029990Z"
    }
   },
   "source": [
    "# test\n",
    "from transformers import AutoTokenizer, AutoModelForCausalLM\n",
    "\n",
    "model = AutoModelForCausalLM.from_pretrained(BASE_MODEL, cache_dir='./cache')\n",
    "tokenizer = AutoTokenizer.from_pretrained(BASE_MODEL, cache_dir='./cache')\n",
    "query = '我想咨询一下做手术能好吗？手术怎么做，术后有后遗症吗？术后胃能不能长的和以前一样吗'\n",
    "inputs = tokenizer(\n",
    "    query, \n",
    "    padding='max_length',\n",
    "    max_length=MAX_LEN,\n",
    "    truncation=True, \n",
    "    return_tensors=\"pt\"\n",
    ")\n",
    "outputs = model.generate(\n",
    "    input_ids=inputs['input_ids'],\n",
    "    attention_mask=inputs['attention_mask'],\n",
    "    max_length=100,\n",
    "    num_beams=4,\n",
    "    early_stopping=True\n",
    ")\n",
    "answer = tokenizer.decode(outputs[0], skip_special_tokens=True)\n",
    "answer"
   ],
   "outputs": [
    {
     "data": {
      "text/plain": [
       "config.json:   0%|          | 0.00/659 [00:00<?, ?B/s]"
      ],
      "application/vnd.jupyter.widget-view+json": {
       "version_major": 2,
       "version_minor": 0,
       "model_id": "6f4351bd5e574a90825354db6eac46b3"
      }
     },
     "metadata": {},
     "output_type": "display_data"
    },
    {
     "data": {
      "text/plain": [
       "model.safetensors:   0%|          | 0.00/988M [00:00<?, ?B/s]"
      ],
      "application/vnd.jupyter.widget-view+json": {
       "version_major": 2,
       "version_minor": 0,
       "model_id": "0fe9ae04ff6048aebde708b970b90ece"
      }
     },
     "metadata": {},
     "output_type": "display_data"
    }
   ],
   "execution_count": null
  }
 ],
 "metadata": {
  "kernelspec": {
   "display_name": "Python 3",
   "language": "python",
   "name": "python3"
  },
  "language_info": {
   "codemirror_mode": {
    "name": "ipython",
    "version": 2
   },
   "file_extension": ".py",
   "mimetype": "text/x-python",
   "name": "python",
   "nbconvert_exporter": "python",
   "pygments_lexer": "ipython2",
   "version": "2.7.6"
  }
 },
 "nbformat": 4,
 "nbformat_minor": 5
}
